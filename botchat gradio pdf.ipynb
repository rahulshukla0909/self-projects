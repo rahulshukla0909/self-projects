{
 "cells": [
  {
   "cell_type": "code",
   "execution_count": 1,
   "id": "d0dd098d",
   "metadata": {},
   "outputs": [
    {
     "data": {
      "text/plain": [
       "' The agriculture credit target will be increased to ` 20 lakh crore.'"
      ]
     },
     "execution_count": 1,
     "metadata": {},
     "output_type": "execute_result"
    }
   ],
   "source": [
    "from PyPDF2 import PdfReader\n",
    "from langchain.embeddings.openai import OpenAIEmbeddings\n",
    "from langchain.vectorstores import FAISS\n",
    "from langchain.text_splitter import CharacterTextSplitter\n",
    "import os\n",
    "os.environ[\"OPENAI_API_KEY\"] = \"your api key\"\n",
    "# provide the path of pdf file/files.\n",
    "pdfreader = PdfReader('take a user input.pdf')\n",
    "from typing_extensions import Concatenate\n",
    "#read text from pdf\n",
    "raw_text= ''\n",
    "for i,page in enumerate(pdfreader.pages):\n",
    "    content = page.extract_text()\n",
    "    if content:\n",
    "        raw_text += content\n",
    "text_splitter = CharacterTextSplitter(\n",
    "separator = \"\\n\",\n",
    "chunk_size = 800,\n",
    "chunk_overlap = 200,\n",
    "length_function =len,)\n",
    "texts = text_splitter.split_text(raw_text)\n",
    "embeddings = OpenAIEmbeddings()\n",
    "document_search = FAISS.from_texts(texts, embeddings)\n",
    "from langchain.chains.question_answering import load_qa_chain\n",
    "from langchain.llms import OpenAI\n",
    "chain = load_qa_chain (OpenAI(), chain_type=\"stuff\")\n",
    "query = \"user ask a quesstion\"\n",
    "docs= document_search.similarity_search(query)\n",
    "chain.run(input_documents=docs, question=query)"
   ]
  },
  {
   "cell_type": "code",
   "execution_count": 11,
   "id": "b1b2bb3e",
   "metadata": {},
   "outputs": [
    {
     "name": "stderr",
     "output_type": "stream",
     "text": [
      "C:\\Users\\rahul\\AppData\\Local\\Temp\\ipykernel_12976\\1930261760.py:44: GradioDeprecationWarning: Usage of gradio.inputs is deprecated, and will not be supported in the future, please import your component from gradio.components\n",
      "  gr.inputs.File(label=\"Upload PDF file\"),\n",
      "C:\\Users\\rahul\\AppData\\Local\\Temp\\ipykernel_12976\\1930261760.py:44: GradioDeprecationWarning: `optional` parameter is deprecated, and it has no effect\n",
      "  gr.inputs.File(label=\"Upload PDF file\"),\n",
      "C:\\Users\\rahul\\AppData\\Local\\Temp\\ipykernel_12976\\1930261760.py:44: GradioDeprecationWarning: `keep_filename` parameter is deprecated, and it has no effect\n",
      "  gr.inputs.File(label=\"Upload PDF file\"),\n",
      "C:\\Users\\rahul\\AppData\\Local\\Temp\\ipykernel_12976\\1930261760.py:45: GradioDeprecationWarning: Usage of gradio.inputs is deprecated, and will not be supported in the future, please import your component from gradio.components\n",
      "  gr.inputs.Textbox(label=\"Enter your question here\"),\n",
      "C:\\Users\\rahul\\AppData\\Local\\Temp\\ipykernel_12976\\1930261760.py:45: GradioDeprecationWarning: `optional` parameter is deprecated, and it has no effect\n",
      "  gr.inputs.Textbox(label=\"Enter your question here\"),\n",
      "C:\\Users\\rahul\\AppData\\Local\\Temp\\ipykernel_12976\\1930261760.py:45: GradioDeprecationWarning: `numeric` parameter is deprecated, and it has no effect\n",
      "  gr.inputs.Textbox(label=\"Enter your question here\"),\n",
      "C:\\Users\\rahul\\AppData\\Local\\Temp\\ipykernel_12976\\1930261760.py:47: GradioDeprecationWarning: Usage of gradio.outputs is deprecated, and will not be supported in the future, please import your components from gradio.components\n",
      "  outputs=gr.outputs.Textbox(),\n"
     ]
    },
    {
     "name": "stdout",
     "output_type": "stream",
     "text": [
      "Running on local URL:  http://127.0.0.1:7875\n",
      "\n",
      "To create a public link, set `share=True` in `launch()`.\n"
     ]
    },
    {
     "data": {
      "text/html": [
       "<div><iframe src=\"http://127.0.0.1:7875/\" width=\"100%\" height=\"500\" allow=\"autoplay; camera; microphone; clipboard-read; clipboard-write;\" frameborder=\"0\" allowfullscreen></iframe></div>"
      ],
      "text/plain": [
       "<IPython.core.display.HTML object>"
      ]
     },
     "metadata": {},
     "output_type": "display_data"
    }
   ],
   "source": [
    "from PyPDF2 import PdfReader\n",
    "from langchain.embeddings.openai import OpenAIEmbeddings\n",
    "from langchain.vectorstores import FAISS\n",
    "from langchain.text_splitter import CharacterTextSplitter\n",
    "import gradio as gr\n",
    "import os\n",
    "\n",
    "os.environ[\"OPENAI_API_KEY\"] = \"ypur_open_api\" # Replace with your actual OpenAI API key\n",
    "\n",
    "def read_pdf_and_answer(pdf_file, question):\n",
    "    # Read the uploaded file and convert it to a file object\n",
    "    with open(pdf_file.name, 'rb') as file_obj:\n",
    "        raw_text = ''\n",
    "        pdfreader = PdfReader(file_obj)\n",
    "        for page in pdfreader.pages:\n",
    "            content = page.extract_text()\n",
    "            if content:\n",
    "                raw_text += content\n",
    "\n",
    "    text_splitter = CharacterTextSplitter(\n",
    "        separator=\"\\n\",\n",
    "        chunk_size=800,\n",
    "        chunk_overlap=200,\n",
    "        length_function=len,\n",
    "    )\n",
    "    texts = text_splitter.split_text(raw_text)\n",
    "\n",
    "    embeddings = OpenAIEmbeddings()\n",
    "    document_search = FAISS.from_texts(texts, embeddings)\n",
    "\n",
    "    from langchain.chains.question_answering import load_qa_chain\n",
    "    from langchain.llms import OpenAI\n",
    "\n",
    "    chain = load_qa_chain(OpenAI(), chain_type=\"stuff\")\n",
    "    docs = document_search.similarity_search(question)\n",
    "    response = chain.run(input_documents=docs, question=question)\n",
    "    max_token_length = 5000\n",
    "    response = response[:max_token_length]\n",
    "    return response\n",
    "\n",
    "iface = gr.Interface(\n",
    "    fn=read_pdf_and_answer,\n",
    "    inputs=[\n",
    "        gr.inputs.File(label=\"Upload PDF file\"),\n",
    "        gr.inputs.Textbox(label=\"Enter your question here\"),\n",
    "    ],\n",
    "    outputs=gr.outputs.Textbox(),\n",
    "    title=\"PDF Question Answering Bot\",\n",
    "    description=\"Upload a PDF file and ask a question to get an answer.\",\n",
    ")\n",
    "\n",
    "if __name__ == \"__main__\":\n",
    "    iface.launch()\n"
   ]
  },
  {
   "cell_type": "code",
   "execution_count": null,
   "id": "da23ae4f",
   "metadata": {},
   "outputs": [],
   "source": []
  }
 ],
 "metadata": {
  "kernelspec": {
   "display_name": "Python 3 (ipykernel)",
   "language": "python",
   "name": "python3"
  },
  "language_info": {
   "codemirror_mode": {
    "name": "ipython",
    "version": 3
   },
   "file_extension": ".py",
   "mimetype": "text/x-python",
   "name": "python",
   "nbconvert_exporter": "python",
   "pygments_lexer": "ipython3",
   "version": "3.11.3"
  }
 },
 "nbformat": 4,
 "nbformat_minor": 5
}
